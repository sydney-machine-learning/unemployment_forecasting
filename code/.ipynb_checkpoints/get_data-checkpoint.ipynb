{
 "cells": [
  {
   "cell_type": "code",
   "execution_count": 210,
   "metadata": {},
   "outputs": [],
   "source": [
    "import pandas as pd\n",
    "import requests\n",
    "import json"
   ]
  },
  {
   "cell_type": "code",
   "execution_count": 212,
   "metadata": {},
   "outputs": [],
   "source": [
    "def get_and_format(econ_series):\n",
    "    api = '&api_key=6a6010bf274d634fd7463838a57f0887'\n",
    "    params = 'file_type=json'\n",
    "    url = 'https://api.stlouisfed.org/fred/series/observations?series_id='+econ_series+'&file_type=json'+api\n",
    "    request = requests.get(url)\n",
    "    content = request.content\n",
    "    content_json = json.loads(content)\n",
    "    #print(json.dumps(content_json, indent = 2))    #useful for debugging\n",
    "    df = pd.DataFrame.from_records(content_json['observations'])\n",
    "    df = df.loc[:,['date','value']]\n",
    "    df['date'] = pd.to_datetime(df['date'], infer_datetime_format=True)\n",
    "    df = df.set_index('date').asfreq(freq = 'Q', method = 'ffill')\n",
    "    return df\n",
    "\n",
    "#Retrieve the data\n",
    "UNRATE = get_and_format('UNRATE')\n",
    "CPIAUCSL = get_and_format('CPIAUCSL')\n",
    "FEDFUNDS = get_and_format('FEDFUNDS')\n",
    "NASDAQCOM = get_and_format('NASDAQCOM')\n",
    "#NASDAQCOM HAS \".\" VALUES that can't be there\n",
    "NASDAQCOM = NASDAQCOM.replace(to_replace = '.', method = 'ffill')\n",
    "\n",
    "\n",
    "RGDP = get_and_format('A939RX0Q048SBEA')\n",
    "CRNT_ACCT = get_and_format('IEABC')\n",
    "HOUSING = get_and_format('HOUST')\n",
    "LABOR_FRC = get_and_format('CLF16OV')\n",
    "MINIMUM_WAGE = get_and_format('FEDMINNFRWG')\n",
    "YOUTH_UNEM = get_and_format('SLUEM1524ZSUSA')\n",
    "\n",
    "#Combine the data\n",
    "df = pd.merge(UNRATE, CPIAUCSL, on = 'date', how = 'left')\n",
    "df = pd.merge(df, FEDFUNDS, on = 'date', how = 'left')\n",
    "df = pd.merge(df, NASDAQCOM, on = 'date', how = 'left')\n",
    "df = pd.merge(df, RGDP, on = 'date', how = 'left')\n",
    "#df = pd.merge(df, CRNT_ACCT, on ='date', how = 'left')\n",
    "df = pd.merge(df, HOUSING, on = 'date', how = 'left')\n",
    "df = pd.merge(df, LABOR_FRC, on = 'date', how = 'left')\n",
    "df = pd.merge(df, MINIMUM_WAGE, on = 'date', how = 'left')\n",
    "#df = pd.merge(df, YOUTH_UNEM, on = 'date', how = 'left')\n",
    "df.columns = ['UNRATE', 'CPIAUCSL', 'FEDFUNDS','NASDAQCOM', 'RGDP',  'HOUSING', 'LABOR_FRC', 'MINIMUM_WAGE']\n",
    "df = df.fillna(method = 'ffill')\n",
    "df.to_csv('US_UNEM_QT.csv')"
   ]
  }
 ],
 "metadata": {
  "kernelspec": {
   "display_name": "Python 3",
   "language": "python",
   "name": "python3"
  },
  "language_info": {
   "codemirror_mode": {
    "name": "ipython",
    "version": 3
   },
   "file_extension": ".py",
   "mimetype": "text/x-python",
   "name": "python",
   "nbconvert_exporter": "python",
   "pygments_lexer": "ipython3",
   "version": "3.7.3"
  }
 },
 "nbformat": 4,
 "nbformat_minor": 2
}
